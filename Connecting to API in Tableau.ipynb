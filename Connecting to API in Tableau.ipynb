{
 "cells": [
  {
   "cell_type": "code",
   "execution_count": 27,
   "id": "a71c0835",
   "metadata": {},
   "outputs": [],
   "source": [
    "import requests"
   ]
  },
  {
   "cell_type": "code",
   "execution_count": 28,
   "id": "6963ebde",
   "metadata": {},
   "outputs": [],
   "source": [
    "name_of_country = 'Nigeria'\n",
    "url  = f\"https://restcountries.com/v3/name/{name_of_country}\"\n",
    "response = requests.get(url) # pull the information from the url\n",
    "response = response.json() # parse output to JSON format"
   ]
  },
  {
   "cell_type": "code",
   "execution_count": 29,
   "id": "e45e3b96",
   "metadata": {},
   "outputs": [
    {
     "data": {
      "text/plain": [
       "[{'name': {'common': 'Nigeria',\n",
       "   'official': 'Federal Republic of Nigeria',\n",
       "   'nativeName': {'eng': {'official': 'Federal Republic of Nigeria',\n",
       "     'common': 'Nigeria'}}},\n",
       "  'tld': ['.ng'],\n",
       "  'cca2': 'NG',\n",
       "  'ccn3': '566',\n",
       "  'cca3': 'NGA',\n",
       "  'cioc': 'NGR',\n",
       "  'independent': True,\n",
       "  'status': 'officially-assigned',\n",
       "  'unMember': True,\n",
       "  'currencies': {'NGN': {'name': 'Nigerian naira', 'symbol': '₦'}},\n",
       "  'idd': {'root': '+2', 'suffixes': ['34']},\n",
       "  'capital': ['Abuja'],\n",
       "  'altSpellings': ['NG',\n",
       "   'Nijeriya',\n",
       "   'Naíjíríà',\n",
       "   'Federal Republic of Nigeria'],\n",
       "  'region': 'Africa',\n",
       "  'subregion': 'Western Africa',\n",
       "  'languages': {'eng': 'English'},\n",
       "  'translations': {'ara': {'official': 'جمهورية نيجيريا الاتحادية',\n",
       "    'common': 'نيجيريا'},\n",
       "   'bre': {'official': 'Republik Kevreadel Nigeria', 'common': 'Nigeria'},\n",
       "   'ces': {'official': 'Nigerijská federativní republika',\n",
       "    'common': 'Nigérie'},\n",
       "   'cym': {'official': 'Federal Republic of Nigeria', 'common': 'Nigeria'},\n",
       "   'deu': {'official': 'Bundesrepublik Nigeria', 'common': 'Nigeria'},\n",
       "   'est': {'official': 'Nigeeria Liitvabariik', 'common': 'Nigeeria'},\n",
       "   'fin': {'official': 'Nigerian liittotasavalta', 'common': 'Nigeria'},\n",
       "   'fra': {'official': 'République fédérale du Nigeria', 'common': 'Nigéria'},\n",
       "   'hrv': {'official': 'Savezna Republika Nigerija', 'common': 'Nigerija'},\n",
       "   'hun': {'official': 'Nigéria', 'common': 'Nigéria'},\n",
       "   'ita': {'official': 'Repubblica federale di Nigeria', 'common': 'Nigeria'},\n",
       "   'jpn': {'official': 'ナイジェリア連邦共和国', 'common': 'ナイジェリア'},\n",
       "   'kor': {'official': '나이지리아 연방 공화국', 'common': '나이지리아'},\n",
       "   'nld': {'official': 'Federale Republiek Nigeria', 'common': 'Nigeria'},\n",
       "   'per': {'official': 'جمهوری فدرال نیجریه', 'common': 'نیجریه'},\n",
       "   'pol': {'official': 'Federalna Republika Nigerii', 'common': 'Nigeria'},\n",
       "   'por': {'official': 'República Federal da Nigéria', 'common': 'Nigéria'},\n",
       "   'rus': {'official': 'Федеративная Республика Нигерия', 'common': 'Нигерия'},\n",
       "   'slk': {'official': 'Nigérijská federatívna republika',\n",
       "    'common': 'Nigéria'},\n",
       "   'spa': {'official': 'República Federal de Nigeria', 'common': 'Nigeria'},\n",
       "   'swe': {'official': 'Förbundsrepubliken Nigeria', 'common': 'Nigeria'},\n",
       "   'urd': {'official': 'وفاقی جمہوریہ نائجیریا', 'common': 'نائجیریا'},\n",
       "   'zho': {'official': '尼日利亚联邦共和国', 'common': '尼日利亚'}},\n",
       "  'latlng': [10.0, 8.0],\n",
       "  'landlocked': False,\n",
       "  'borders': ['BEN', 'CMR', 'TCD', 'NER'],\n",
       "  'area': 923768.0,\n",
       "  'demonyms': {'eng': {'f': 'Nigerian', 'm': 'Nigerian'},\n",
       "   'fra': {'f': 'Nigériane', 'm': 'Nigérian'}},\n",
       "  'flag': '🇳🇬',\n",
       "  'maps': {'googleMaps': 'https://goo.gl/maps/LTn417qWwBPFszuV9',\n",
       "   'openStreetMaps': 'https://www.openstreetmap.org/relation/192787'},\n",
       "  'population': 206139587,\n",
       "  'gini': {'2018': 35.1},\n",
       "  'fifa': 'NGA',\n",
       "  'car': {'signs': ['WAN'], 'side': 'right'},\n",
       "  'timezones': ['UTC+01:00'],\n",
       "  'continents': ['Africa'],\n",
       "  'flags': ['https://flagcdn.com/ng.svg', 'https://flagcdn.com/w320/ng.png']}]"
      ]
     },
     "execution_count": 29,
     "metadata": {},
     "output_type": "execute_result"
    }
   ],
   "source": [
    "response"
   ]
  },
  {
   "cell_type": "code",
   "execution_count": 31,
   "id": "6358559a",
   "metadata": {},
   "outputs": [
    {
     "data": {
      "text/plain": [
       "{'name': {'common': 'Nigeria',\n",
       "  'official': 'Federal Republic of Nigeria',\n",
       "  'nativeName': {'eng': {'official': 'Federal Republic of Nigeria',\n",
       "    'common': 'Nigeria'}}},\n",
       " 'tld': ['.ng'],\n",
       " 'cca2': 'NG',\n",
       " 'ccn3': '566',\n",
       " 'cca3': 'NGA',\n",
       " 'cioc': 'NGR',\n",
       " 'independent': True,\n",
       " 'status': 'officially-assigned',\n",
       " 'unMember': True,\n",
       " 'currencies': {'NGN': {'name': 'Nigerian naira', 'symbol': '₦'}},\n",
       " 'idd': {'root': '+2', 'suffixes': ['34']},\n",
       " 'capital': ['Abuja'],\n",
       " 'altSpellings': ['NG', 'Nijeriya', 'Naíjíríà', 'Federal Republic of Nigeria'],\n",
       " 'region': 'Africa',\n",
       " 'subregion': 'Western Africa',\n",
       " 'languages': {'eng': 'English'},\n",
       " 'translations': {'ara': {'official': 'جمهورية نيجيريا الاتحادية',\n",
       "   'common': 'نيجيريا'},\n",
       "  'bre': {'official': 'Republik Kevreadel Nigeria', 'common': 'Nigeria'},\n",
       "  'ces': {'official': 'Nigerijská federativní republika', 'common': 'Nigérie'},\n",
       "  'cym': {'official': 'Federal Republic of Nigeria', 'common': 'Nigeria'},\n",
       "  'deu': {'official': 'Bundesrepublik Nigeria', 'common': 'Nigeria'},\n",
       "  'est': {'official': 'Nigeeria Liitvabariik', 'common': 'Nigeeria'},\n",
       "  'fin': {'official': 'Nigerian liittotasavalta', 'common': 'Nigeria'},\n",
       "  'fra': {'official': 'République fédérale du Nigeria', 'common': 'Nigéria'},\n",
       "  'hrv': {'official': 'Savezna Republika Nigerija', 'common': 'Nigerija'},\n",
       "  'hun': {'official': 'Nigéria', 'common': 'Nigéria'},\n",
       "  'ita': {'official': 'Repubblica federale di Nigeria', 'common': 'Nigeria'},\n",
       "  'jpn': {'official': 'ナイジェリア連邦共和国', 'common': 'ナイジェリア'},\n",
       "  'kor': {'official': '나이지리아 연방 공화국', 'common': '나이지리아'},\n",
       "  'nld': {'official': 'Federale Republiek Nigeria', 'common': 'Nigeria'},\n",
       "  'per': {'official': 'جمهوری فدرال نیجریه', 'common': 'نیجریه'},\n",
       "  'pol': {'official': 'Federalna Republika Nigerii', 'common': 'Nigeria'},\n",
       "  'por': {'official': 'República Federal da Nigéria', 'common': 'Nigéria'},\n",
       "  'rus': {'official': 'Федеративная Республика Нигерия', 'common': 'Нигерия'},\n",
       "  'slk': {'official': 'Nigérijská federatívna republika', 'common': 'Nigéria'},\n",
       "  'spa': {'official': 'República Federal de Nigeria', 'common': 'Nigeria'},\n",
       "  'swe': {'official': 'Förbundsrepubliken Nigeria', 'common': 'Nigeria'},\n",
       "  'urd': {'official': 'وفاقی جمہوریہ نائجیریا', 'common': 'نائجیریا'},\n",
       "  'zho': {'official': '尼日利亚联邦共和国', 'common': '尼日利亚'}},\n",
       " 'latlng': [10.0, 8.0],\n",
       " 'landlocked': False,\n",
       " 'borders': ['BEN', 'CMR', 'TCD', 'NER'],\n",
       " 'area': 923768.0,\n",
       " 'demonyms': {'eng': {'f': 'Nigerian', 'm': 'Nigerian'},\n",
       "  'fra': {'f': 'Nigériane', 'm': 'Nigérian'}},\n",
       " 'flag': '🇳🇬',\n",
       " 'maps': {'googleMaps': 'https://goo.gl/maps/LTn417qWwBPFszuV9',\n",
       "  'openStreetMaps': 'https://www.openstreetmap.org/relation/192787'},\n",
       " 'population': 206139587,\n",
       " 'gini': {'2018': 35.1},\n",
       " 'fifa': 'NGA',\n",
       " 'car': {'signs': ['WAN'], 'side': 'right'},\n",
       " 'timezones': ['UTC+01:00'],\n",
       " 'continents': ['Africa'],\n",
       " 'flags': ['https://flagcdn.com/ng.svg', 'https://flagcdn.com/w320/ng.png']}"
      ]
     },
     "execution_count": 31,
     "metadata": {},
     "output_type": "execute_result"
    }
   ],
   "source": [
    "country_info = response[0]\n",
    "country_info"
   ]
  },
  {
   "cell_type": "code",
   "execution_count": null,
   "id": "bb6fc5c8",
   "metadata": {},
   "outputs": [],
   "source": []
  },
  {
   "cell_type": "code",
   "execution_count": null,
   "id": "b764a13b",
   "metadata": {},
   "outputs": [],
   "source": []
  },
  {
   "cell_type": "code",
   "execution_count": null,
   "id": "fc5b56cf",
   "metadata": {},
   "outputs": [],
   "source": []
  },
  {
   "cell_type": "code",
   "execution_count": null,
   "id": "54f8ded0",
   "metadata": {},
   "outputs": [],
   "source": []
  },
  {
   "cell_type": "code",
   "execution_count": null,
   "id": "28245d86",
   "metadata": {},
   "outputs": [],
   "source": []
  },
  {
   "cell_type": "code",
   "execution_count": null,
   "id": "a2d86752",
   "metadata": {},
   "outputs": [],
   "source": []
  },
  {
   "cell_type": "code",
   "execution_count": null,
   "id": "013ef6d9",
   "metadata": {},
   "outputs": [],
   "source": []
  },
  {
   "cell_type": "code",
   "execution_count": null,
   "id": "a3f9da12",
   "metadata": {},
   "outputs": [],
   "source": []
  },
  {
   "cell_type": "code",
   "execution_count": null,
   "id": "ef14c7d6",
   "metadata": {},
   "outputs": [],
   "source": []
  },
  {
   "cell_type": "code",
   "execution_count": 18,
   "id": "07077fa7",
   "metadata": {},
   "outputs": [
    {
     "data": {
      "text/plain": [
       "'Democratic Republic of Timor-Leste'"
      ]
     },
     "execution_count": 18,
     "metadata": {},
     "output_type": "execute_result"
    }
   ],
   "source": [
    "country_info[\"name\"][\"official\"]"
   ]
  },
  {
   "cell_type": "code",
   "execution_count": 19,
   "id": "e034008f",
   "metadata": {},
   "outputs": [
    {
     "name": "stdout",
     "output_type": "stream",
     "text": [
      "name : {'common': 'Timor-Leste', 'official': 'Democratic Republic of Timor-Leste', 'nativeName': {'por': {'official': 'República Democrática de Timor-Leste', 'common': 'Timor-Leste'}, 'tet': {'official': 'Repúblika Demokrátika Timór-Leste', 'common': 'Timór-Leste'}}}\n",
      "tld : ['.tl']\n",
      "cca2 : TL\n",
      "ccn3 : 626\n",
      "cca3 : TLS\n",
      "cioc : TLS\n",
      "independent : True\n",
      "status : officially-assigned\n",
      "unMember : True\n",
      "currencies : {'USD': {'name': 'United States dollar', 'symbol': '$'}}\n",
      "idd : {'root': '+6', 'suffixes': ['70']}\n",
      "capital : ['Dili']\n",
      "altSpellings : ['TL', 'East Timor', 'Democratic Republic of Timor-Leste', 'República Democrática de Timor-Leste', 'Repúblika Demokrátika Timór-Leste', \"Timór Lorosa'e\", 'Timor Lorosae']\n",
      "region : Asia\n",
      "subregion : South-Eastern Asia\n",
      "languages : {'por': 'Portuguese', 'tet': 'Tetum'}\n",
      "latlng : [-8.83333333, 125.91666666]\n",
      "landlocked : False\n",
      "borders : ['IDN']\n",
      "area : 14874.0\n",
      "demonyms : {'eng': {'f': 'East Timorese', 'm': 'East Timorese'}, 'fra': {'f': 'Est-timoraise', 'm': 'Est-timorais'}}\n",
      "flag : 🇹🇱\n",
      "maps : {'googleMaps': 'https://goo.gl/maps/sFqBC9zjgUXPR1iTA', 'openStreetMaps': 'https://www.openstreetmap.org/relation/305142'}\n",
      "population : 1318442\n",
      "gini : {'2014': 28.7}\n",
      "fifa : TLS\n",
      "car : {'signs': ['TL'], 'side': 'left'}\n",
      "timezones : ['UTC+09:00']\n",
      "continents : ['Oceania']\n",
      "flags : ['https://flagcdn.com/tl.svg', 'https://flagcdn.com/w320/tl.png']\n"
     ]
    }
   ],
   "source": [
    "for i,j in zip(country_info.keys(),country_info.values()):\n",
    "    if i == 'translations':\n",
    "        pass\n",
    "    else:\n",
    "        print(i,':',j)"
   ]
  },
  {
   "cell_type": "code",
   "execution_count": 15,
   "id": "c46b454e",
   "metadata": {},
   "outputs": [
    {
     "data": {
      "text/plain": [
       "{'ukr': 'Ukrainian'}"
      ]
     },
     "execution_count": 15,
     "metadata": {},
     "output_type": "execute_result"
    }
   ],
   "source": [
    "country_info[\"languages\"]"
   ]
  },
  {
   "cell_type": "code",
   "execution_count": 21,
   "id": "8f48d92a",
   "metadata": {},
   "outputs": [
    {
     "data": {
      "text/plain": [
       "['Portuguese', 'Tetum']"
      ]
     },
     "execution_count": 21,
     "metadata": {},
     "output_type": "execute_result"
    }
   ],
   "source": [
    "lang = []\n",
    "for i,j in zip(country_info[\"languages\"].keys(),country_info[\"languages\"].values()):\n",
    "    lang.append(j)\n",
    "lang"
   ]
  },
  {
   "cell_type": "code",
   "execution_count": 26,
   "id": "5b23bd2f",
   "metadata": {},
   "outputs": [
    {
     "data": {
      "text/plain": [
       "'Tetum'"
      ]
     },
     "execution_count": 26,
     "metadata": {},
     "output_type": "execute_result"
    }
   ],
   "source": [
    "import random\n",
    "random.choice(lang)"
   ]
  },
  {
   "cell_type": "code",
   "execution_count": 15,
   "id": "1d3bdac2",
   "metadata": {},
   "outputs": [
    {
     "data": {
      "text/plain": [
       "dict_keys(['name', 'tld', 'cca2', 'ccn3', 'cca3', 'cioc', 'independent', 'status', 'unMember', 'currencies', 'idd', 'capital', 'altSpellings', 'region', 'subregion', 'languages', 'translations', 'latlng', 'landlocked', 'borders', 'area', 'demonyms', 'flag', 'maps', 'population', 'gini', 'fifa', 'car', 'timezones', 'continents', 'flags'])"
      ]
     },
     "execution_count": 15,
     "metadata": {},
     "output_type": "execute_result"
    }
   ],
   "source": [
    "response[0].keys()"
   ]
  },
  {
   "cell_type": "code",
   "execution_count": null,
   "id": "d7d7243e",
   "metadata": {},
   "outputs": [],
   "source": []
  }
 ],
 "metadata": {
  "kernelspec": {
   "display_name": "Python 3 (ipykernel)",
   "language": "python",
   "name": "python3"
  },
  "language_info": {
   "codemirror_mode": {
    "name": "ipython",
    "version": 3
   },
   "file_extension": ".py",
   "mimetype": "text/x-python",
   "name": "python",
   "nbconvert_exporter": "python",
   "pygments_lexer": "ipython3",
   "version": "3.9.12"
  }
 },
 "nbformat": 4,
 "nbformat_minor": 5
}
